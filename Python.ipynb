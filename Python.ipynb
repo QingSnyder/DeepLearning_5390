{
  "nbformat": 4,
  "nbformat_minor": 0,
  "metadata": {
    "colab": {
      "name": "Python.ipynb",
      "provenance": [],
      "collapsed_sections": []
    },
    "kernelspec": {
      "name": "python3",
      "display_name": "Python 3"
    }
  },
  "cells": [
    {
      "cell_type": "code",
      "metadata": {
        "colab": {
          "base_uri": "https://localhost:8080/"
        },
        "id": "rzjPpKg2SXO6",
        "outputId": "8cb1eb0b-82cf-4ccc-f0ad-5a66d8527db1"
      },
      "source": [
        "import platform \n",
        "print(platform.python_version())"
      ],
      "execution_count": 3,
      "outputs": [
        {
          "output_type": "stream",
          "text": [
            "3.6.9\n"
          ],
          "name": "stdout"
        }
      ]
    },
    {
      "cell_type": "code",
      "metadata": {
        "colab": {
          "base_uri": "https://localhost:8080/"
        },
        "id": "kqI5pgRXTVbL",
        "outputId": "8f2e55ba-5a95-42f9-c0a8-09558fca2225"
      },
      "source": [
        "print(\"hello world\")"
      ],
      "execution_count": 4,
      "outputs": [
        {
          "output_type": "stream",
          "text": [
            "hello world\n"
          ],
          "name": "stdout"
        }
      ]
    },
    {
      "cell_type": "code",
      "metadata": {
        "colab": {
          "base_uri": "https://localhost:8080/"
        },
        "id": "1pAzg8SmToOR",
        "outputId": "cc0dc40a-89b1-4405-923c-cc6a13a5eecc"
      },
      "source": [
        "x=3\n",
        "print(x)\n",
        "print(type(x))"
      ],
      "execution_count": 11,
      "outputs": [
        {
          "output_type": "stream",
          "text": [
            "3\n",
            "<class 'int'>\n"
          ],
          "name": "stdout"
        }
      ]
    },
    {
      "cell_type": "code",
      "metadata": {
        "colab": {
          "base_uri": "https://localhost:8080/"
        },
        "id": "Yh9czIj2Tvpa",
        "outputId": "59c28dd5-5f29-441a-cffe-9795ae89e38e"
      },
      "source": [
        "print(x+1)\n",
        "print(x*2)"
      ],
      "execution_count": 12,
      "outputs": [
        {
          "output_type": "stream",
          "text": [
            "4\n",
            "6\n"
          ],
          "name": "stdout"
        }
      ]
    },
    {
      "cell_type": "code",
      "metadata": {
        "colab": {
          "base_uri": "https://localhost:8080/"
        },
        "id": "xafE5otfT1fV",
        "outputId": "154c07bc-b617-46ac-d161-703b8b3c4494"
      },
      "source": [
        "x += 1\n",
        "print(x)\n",
        "x *=2\n",
        "print(x)"
      ],
      "execution_count": 13,
      "outputs": [
        {
          "output_type": "stream",
          "text": [
            "4\n",
            "8\n"
          ],
          "name": "stdout"
        }
      ]
    },
    {
      "cell_type": "code",
      "metadata": {
        "colab": {
          "base_uri": "https://localhost:8080/"
        },
        "id": "0ZvwIUNDT_Xl",
        "outputId": "f66d1a9b-79e4-4613-dc30-a4229062c216"
      },
      "source": [
        "y=2.5\n",
        "print(type(y))"
      ],
      "execution_count": 14,
      "outputs": [
        {
          "output_type": "stream",
          "text": [
            "<class 'float'>\n"
          ],
          "name": "stdout"
        }
      ]
    },
    {
      "cell_type": "code",
      "metadata": {
        "colab": {
          "base_uri": "https://localhost:8080/"
        },
        "id": "0b_LDtSIUYI4",
        "outputId": "882d2cce-da18-4b1f-fdba-b29afc0995c4"
      },
      "source": [
        "x = 100000000000000\n",
        "print(type(x))\n",
        "x = 10.0\n",
        "print(type(x))\n",
        "x = -1.0 + 1.0j\n",
        "print(type(x))\n",
        "x = '10.0'\n",
        "print(type(x))"
      ],
      "execution_count": 18,
      "outputs": [
        {
          "output_type": "stream",
          "text": [
            "<class 'int'>\n",
            "<class 'float'>\n",
            "<class 'complex'>\n",
            "<class 'str'>\n"
          ],
          "name": "stdout"
        }
      ]
    },
    {
      "cell_type": "code",
      "metadata": {
        "colab": {
          "base_uri": "https://localhost:8080/"
        },
        "id": "ptp_WxUpUniU",
        "outputId": "ff6a9e65-a253-45db-8f34-05fdb689be91"
      },
      "source": [
        "t,f = True, False\n",
        "print(type(t))"
      ],
      "execution_count": 19,
      "outputs": [
        {
          "output_type": "stream",
          "text": [
            "<class 'bool'>\n"
          ],
          "name": "stdout"
        }
      ]
    },
    {
      "cell_type": "code",
      "metadata": {
        "colab": {
          "base_uri": "https://localhost:8080/"
        },
        "id": "HGFI0sjMYb0q",
        "outputId": "7a165347-a29e-4b1c-91d2-7bb2a627b592"
      },
      "source": [
        "print( t and f ) \n",
        "print( t or f ) \n",
        "print( not t )\n",
        "print( t !=f )"
      ],
      "execution_count": 20,
      "outputs": [
        {
          "output_type": "stream",
          "text": [
            "False\n",
            "True\n",
            "False\n",
            "True\n"
          ],
          "name": "stdout"
        }
      ]
    },
    {
      "cell_type": "code",
      "metadata": {
        "colab": {
          "base_uri": "https://localhost:8080/"
        },
        "id": "V9ZBfYCRaPSF",
        "outputId": "3dc102a2-fb57-4979-d187-bcd01fc2018f"
      },
      "source": [
        "print( t & f )\n",
        "print( t | f )"
      ],
      "execution_count": 21,
      "outputs": [
        {
          "output_type": "stream",
          "text": [
            "False\n",
            "True\n"
          ],
          "name": "stdout"
        }
      ]
    },
    {
      "cell_type": "code",
      "metadata": {
        "colab": {
          "base_uri": "https://localhost:8080/"
        },
        "id": "gE6Dg3o_aZZO",
        "outputId": "b2ab6bfd-cf55-45b0-e6de-49f62e950e7f"
      },
      "source": [
        "print( 0<1 & 0<2)   # since do & first then 0<2 then it's false\n",
        "print( 0<1 and 0<2)"
      ],
      "execution_count": 22,
      "outputs": [
        {
          "output_type": "stream",
          "text": [
            "False\n",
            "True\n"
          ],
          "name": "stdout"
        }
      ]
    },
    {
      "cell_type": "code",
      "metadata": {
        "colab": {
          "base_uri": "https://localhost:8080/"
        },
        "id": "KJYIyOcXajDm",
        "outputId": "0683a202-ebb9-4403-dff3-90a594fffc7a"
      },
      "source": [
        "hello = 'hello'\n",
        "world = \"world\"\n",
        "again = \"\"\"Hello\n",
        "learning python\n",
        "         there \"\"\"\n",
        "print(hello,len(hello))\n",
        "print(again)"
      ],
      "execution_count": 3,
      "outputs": [
        {
          "output_type": "stream",
          "text": [
            "hello 5\n",
            "Hello\n",
            "learning python\n",
            "         there \n"
          ],
          "name": "stdout"
        }
      ]
    },
    {
      "cell_type": "code",
      "metadata": {
        "colab": {
          "base_uri": "https://localhost:8080/"
        },
        "id": "TvsezzEFbU0x",
        "outputId": "52372cb9-f646-490a-d60a-5d04bb3940f3"
      },
      "source": [
        "hw = hello + ' ' + world \n",
        "print(hw, hello)"
      ],
      "execution_count": 6,
      "outputs": [
        {
          "output_type": "stream",
          "text": [
            "hello world hello\n"
          ],
          "name": "stdout"
        }
      ]
    },
    {
      "cell_type": "code",
      "metadata": {
        "colab": {
          "base_uri": "https://localhost:8080/"
        },
        "id": "6OF5jqmbb5Gi",
        "outputId": "438c03e9-6acc-4188-90f3-d0835c1d8ac7"
      },
      "source": [
        "print('%13s %13s %d' % (hello,world ,12))"
      ],
      "execution_count": 7,
      "outputs": [
        {
          "output_type": "stream",
          "text": [
            "        hello         world 12\n"
          ],
          "name": "stdout"
        }
      ]
    },
    {
      "cell_type": "code",
      "metadata": {
        "colab": {
          "base_uri": "https://localhost:8080/"
        },
        "id": "r2ZrwTmecQz4",
        "outputId": "a15d298a-34e8-47e3-a2d1-56b4a376541e"
      },
      "source": [
        "print(f\"I want to say {hello} to the {world}!\")  #f-string"
      ],
      "execution_count": 8,
      "outputs": [
        {
          "output_type": "stream",
          "text": [
            "I want to say hello to the world!\n"
          ],
          "name": "stdout"
        }
      ]
    },
    {
      "cell_type": "code",
      "metadata": {
        "colab": {
          "base_uri": "https://localhost:8080/",
          "height": 181
        },
        "id": "MaaEKkxxcq8d",
        "outputId": "71226ad6-9352-4739-9b93-03ec53c17ded"
      },
      "source": [
        "print(s.capitalize)\n",
        "print(s.upper() )"
      ],
      "execution_count": 10,
      "outputs": [
        {
          "output_type": "error",
          "ename": "NameError",
          "evalue": "ignored",
          "traceback": [
            "\u001b[0;31m---------------------------------------------------------------------------\u001b[0m",
            "\u001b[0;31mNameError\u001b[0m                                 Traceback (most recent call last)",
            "\u001b[0;32m<ipython-input-10-a0b4575cd660>\u001b[0m in \u001b[0;36m<module>\u001b[0;34m()\u001b[0m\n\u001b[0;32m----> 1\u001b[0;31m \u001b[0mprint\u001b[0m\u001b[0;34m(\u001b[0m\u001b[0ms\u001b[0m\u001b[0;34m.\u001b[0m\u001b[0mcapitalize\u001b[0m\u001b[0;34m)\u001b[0m\u001b[0;34m\u001b[0m\u001b[0;34m\u001b[0m\u001b[0m\n\u001b[0m\u001b[1;32m      2\u001b[0m \u001b[0mprint\u001b[0m\u001b[0;34m(\u001b[0m\u001b[0ms\u001b[0m\u001b[0;34m.\u001b[0m\u001b[0mupper\u001b[0m\u001b[0;34m(\u001b[0m\u001b[0;34m)\u001b[0m \u001b[0;34m)\u001b[0m\u001b[0;34m\u001b[0m\u001b[0;34m\u001b[0m\u001b[0m\n",
            "\u001b[0;31mNameError\u001b[0m: name 's' is not defined"
          ]
        }
      ]
    },
    {
      "cell_type": "code",
      "metadata": {
        "colab": {
          "base_uri": "https://localhost:8080/"
        },
        "id": "yMqkkdwSdis8",
        "outputId": "e66fecc2-e0f6-4836-e2c8-3fdccb9a8c97"
      },
      "source": [
        "xs=[3,1,1,2]\n",
        "print(xs,xs[2])\n",
        "print(xs[-1])\n",
        "print(xs[-2])"
      ],
      "execution_count": 18,
      "outputs": [
        {
          "output_type": "stream",
          "text": [
            "[3, 1, 1, 2] 1\n",
            "2\n",
            "1\n"
          ],
          "name": "stdout"
        }
      ]
    },
    {
      "cell_type": "code",
      "metadata": {
        "colab": {
          "base_uri": "https://localhost:8080/"
        },
        "id": "TW_h9icIdtRE",
        "outputId": "2a957dca-2212-4c9b-c8c8-0ad05668ca71"
      },
      "source": [
        "xs[2]='foo'\n",
        "print(xs)"
      ],
      "execution_count": 19,
      "outputs": [
        {
          "output_type": "stream",
          "text": [
            "[3, 1, 'foo', 2]\n"
          ],
          "name": "stdout"
        }
      ]
    },
    {
      "cell_type": "code",
      "metadata": {
        "colab": {
          "base_uri": "https://localhost:8080/"
        },
        "id": "3heTG87CeLWU",
        "outputId": "64b4cb63-038b-4a76-ff0a-52e29bdea450"
      },
      "source": [
        "xs.append('bar')   #Add a new element to the end of the list\n",
        "print(xs)"
      ],
      "execution_count": 20,
      "outputs": [
        {
          "output_type": "stream",
          "text": [
            "[3, 1, 'foo', 2, 'bar']\n"
          ],
          "name": "stdout"
        }
      ]
    },
    {
      "cell_type": "code",
      "metadata": {
        "colab": {
          "base_uri": "https://localhost:8080/"
        },
        "id": "SnhcaTKaedg3",
        "outputId": "3f2b4dcd-9037-44f6-b089-9ceea20ff8ef"
      },
      "source": [
        "x=xs.pop()  # remove and return the last element of the list \n",
        "print(x)\n",
        "print(x,xs)"
      ],
      "execution_count": 21,
      "outputs": [
        {
          "output_type": "stream",
          "text": [
            "bar\n",
            "bar [3, 1, 'foo', 2]\n"
          ],
          "name": "stdout"
        }
      ]
    },
    {
      "cell_type": "code",
      "metadata": {
        "colab": {
          "base_uri": "https://localhost:8080/"
        },
        "id": "J2f15-uJeuge",
        "outputId": "483c9543-2974-482b-cf2a-5efa1ca2a01a"
      },
      "source": [
        "xs = [3,1,5,1,3,2]   \n",
        "xs2=[10,11]\n",
        "xs.append(xs2)\n",
        "print(xs)"
      ],
      "execution_count": 22,
      "outputs": [
        {
          "output_type": "stream",
          "text": [
            "[3, 1, 5, 1, 3, 2, [10, 11]]\n"
          ],
          "name": "stdout"
        }
      ]
    },
    {
      "cell_type": "code",
      "metadata": {
        "colab": {
          "base_uri": "https://localhost:8080/"
        },
        "id": "z-PFzkIJftFR",
        "outputId": "af94b6d5-0085-4d5c-980a-0fce9b36f8aa"
      },
      "source": [
        "xs_another=[100,1000,200]\n",
        "xs.extend(xs_another)   # Add one list to another list \n",
        "print(xs)               # careful of append and extend, they are different "
      ],
      "execution_count": 23,
      "outputs": [
        {
          "output_type": "stream",
          "text": [
            "[3, 1, 5, 1, 3, 2, [10, 11], 100, 1000, 200]\n"
          ],
          "name": "stdout"
        }
      ]
    },
    {
      "cell_type": "code",
      "metadata": {
        "colab": {
          "base_uri": "https://localhost:8080/"
        },
        "id": "Zj-8cV6CgBCX",
        "outputId": "b1c39baa-4fc2-40d0-b39a-77cb7272dc03"
      },
      "source": [
        "nums = range(5)\n",
        "print(nums)"
      ],
      "execution_count": 25,
      "outputs": [
        {
          "output_type": "stream",
          "text": [
            "range(0, 5)\n"
          ],
          "name": "stdout"
        }
      ]
    },
    {
      "cell_type": "markdown",
      "metadata": {
        "id": "lCABfpwbhCmf"
      },
      "source": [
        "Slicing"
      ]
    },
    {
      "cell_type": "code",
      "metadata": {
        "colab": {
          "base_uri": "https://localhost:8080/"
        },
        "id": "yX9T3Seyg3es",
        "outputId": "1e30e2aa-58b8-4933-a2ba-e90c9800489e"
      },
      "source": [
        "nums = [0,1,2,3,4]\n",
        "print(nums[2:4])   # Get a slice from index 2 to 4 (exclusive)\n",
        "print(nums[2:])    # get a slice from index2 to the end \n",
        "print(nums[:2])   # get a slice from the start to index 2  \n",
        "print(nums[:])    # give the whole \n",
        "print(nums[:-1])  # slice indices can be nagetive \n",
        "nums[2:4] = [8,8,23,56,9] # Assign a new sublist to a slice \n",
        "print(nums)"
      ],
      "execution_count": 26,
      "outputs": [
        {
          "output_type": "stream",
          "text": [
            "[2, 3]\n",
            "[2, 3, 4]\n",
            "[0, 1]\n",
            "[0, 1, 2, 3, 4]\n",
            "[0, 1, 2, 3]\n",
            "[0, 1, 8, 8, 23, 56, 9, 4]\n"
          ],
          "name": "stdout"
        }
      ]
    },
    {
      "cell_type": "markdown",
      "metadata": {
        "id": "6GwmRJ86i8zu"
      },
      "source": [
        "Loops"
      ]
    },
    {
      "cell_type": "code",
      "metadata": {
        "colab": {
          "base_uri": "https://localhost:8080/"
        },
        "id": "msLy8T7XiAG3",
        "outputId": "88b4e114-19e5-47b0-ef2d-a5c44a4042aa"
      },
      "source": [
        "animals = ['cat','dog','monkey']\n",
        "i=0\n",
        "for animal in animals :\n",
        "  print (i)\n",
        "  i +=1\n",
        "  print(animal)"
      ],
      "execution_count": 28,
      "outputs": [
        {
          "output_type": "stream",
          "text": [
            "0\n",
            "cat\n",
            "1\n",
            "dog\n",
            "2\n",
            "monkey\n"
          ],
          "name": "stdout"
        }
      ]
    },
    {
      "cell_type": "code",
      "metadata": {
        "colab": {
          "base_uri": "https://localhost:8080/"
        },
        "id": "5iLaZLS5jMtm",
        "outputId": "30b58e2d-ea93-46fa-c9e0-76bba5f0e4a9"
      },
      "source": [
        "animals = ['cat','dog','monkey']\n",
        "for idx, animal in enumerate(animals):\n",
        "  print('#%d: %s' % (idx + 1, animal))"
      ],
      "execution_count": 31,
      "outputs": [
        {
          "output_type": "stream",
          "text": [
            "#1: cat\n",
            "#2: dog\n",
            "#3: monkey\n"
          ],
          "name": "stdout"
        }
      ]
    },
    {
      "cell_type": "code",
      "metadata": {
        "colab": {
          "base_uri": "https://localhost:8080/"
        },
        "id": "KfDqhdeYj2Tu",
        "outputId": "ddadd4a8-37bf-4aae-c385-4500adfa2f43"
      },
      "source": [
        "nums = [0,1,2,3,4]\n",
        "squares = [x **2 for x in nums]\n",
        "print(squares)"
      ],
      "execution_count": 33,
      "outputs": [
        {
          "output_type": "stream",
          "text": [
            "[0, 1, 4, 9, 16]\n"
          ],
          "name": "stdout"
        }
      ]
    },
    {
      "cell_type": "code",
      "metadata": {
        "colab": {
          "base_uri": "https://localhost:8080/"
        },
        "id": "rok9watJk-JH",
        "outputId": "d0dd04a1-81d1-4958-c229-b8440415d62a"
      },
      "source": [
        "nums = [0,1,2,3,4]\n",
        "even_squares=[x ** 2 for x in nums if x % 2 ==0 ]\n",
        "print(even_squares)  # only print even result "
      ],
      "execution_count": 34,
      "outputs": [
        {
          "output_type": "stream",
          "text": [
            "[0, 4, 16]\n"
          ],
          "name": "stdout"
        }
      ]
    },
    {
      "cell_type": "markdown",
      "metadata": {
        "id": "_9TRGN3Cl5gD"
      },
      "source": [
        "Distinaries\n",
        "A dictionay stores(key,value) pairs, smilar to a map in Java"
      ]
    },
    {
      "cell_type": "code",
      "metadata": {
        "colab": {
          "base_uri": "https://localhost:8080/"
        },
        "id": "g5VEeW8rlwZa",
        "outputId": "4fe0dac6-2f22-404a-ab14-412e2c48dd0c"
      },
      "source": [
        "d = {'cat': 'cute','dog': 'furry'}\n",
        "print(d['cat'])\n",
        "print('cat' in d) # check if a dictionary has a given key"
      ],
      "execution_count": 36,
      "outputs": [
        {
          "output_type": "stream",
          "text": [
            "cute\n",
            "True\n"
          ],
          "name": "stdout"
        }
      ]
    },
    {
      "cell_type": "code",
      "metadata": {
        "colab": {
          "base_uri": "https://localhost:8080/"
        },
        "id": "eC71TzxkmXbr",
        "outputId": "b4032016-a50e-4a65-a46c-67aa64243aba"
      },
      "source": [
        "d['fish']='wet'\n",
        "print(d['fish'])"
      ],
      "execution_count": 38,
      "outputs": [
        {
          "output_type": "stream",
          "text": [
            "wet\n"
          ],
          "name": "stdout"
        }
      ]
    },
    {
      "cell_type": "code",
      "metadata": {
        "colab": {
          "base_uri": "https://localhost:8080/"
        },
        "id": "3c1OUgVPml05",
        "outputId": "4d580e52-98e4-4b16-eed2-7bc4ba6b3753"
      },
      "source": [
        "print(d.get('monkey','N/A'))\n",
        "print(d.get('fish','N/A'))"
      ],
      "execution_count": 40,
      "outputs": [
        {
          "output_type": "stream",
          "text": [
            "N/A\n",
            "wet\n"
          ],
          "name": "stdout"
        }
      ]
    },
    {
      "cell_type": "code",
      "metadata": {
        "colab": {
          "base_uri": "https://localhost:8080/"
        },
        "id": "m-3GRUWGmzBh",
        "outputId": "54adc0da-0975-4c2d-b80d-8c9fc741302d"
      },
      "source": [
        "del d['fish']    # Remove an element from a dictionary\n",
        "print(d.get('fish','N/A'))  # 'fish' is no longer a key: print \"N/A\""
      ],
      "execution_count": 41,
      "outputs": [
        {
          "output_type": "stream",
          "text": [
            "N/A\n"
          ],
          "name": "stdout"
        }
      ]
    },
    {
      "cell_type": "code",
      "metadata": {
        "colab": {
          "base_uri": "https://localhost:8080/"
        },
        "id": "h8OWS4lknboi",
        "outputId": "802ff5cd-69f3-4730-9de6-242c843c445f"
      },
      "source": [
        "d = {'person':2,'cat':4,'spider':8}\n",
        "for animal in d:\n",
        "  legs = d[animal]\n",
        "  print('A %s has %d legs' % (animal,legs))"
      ],
      "execution_count": 42,
      "outputs": [
        {
          "output_type": "stream",
          "text": [
            "A person has 2 legs\n",
            "A cat has 4 legs\n",
            "A spider has 8 legs\n"
          ],
          "name": "stdout"
        }
      ]
    },
    {
      "cell_type": "code",
      "metadata": {
        "colab": {
          "base_uri": "https://localhost:8080/"
        },
        "id": "J9VABhp4nyMP",
        "outputId": "b806a007-2aba-4424-8e30-2159a21e942a"
      },
      "source": [
        "d = {'person':2,'cat':4,'spider':8}\n",
        "for animal,legs in d.items():\n",
        "  legs = d[animal]\n",
        "  print('A %s has %d legs' % (animal,legs))"
      ],
      "execution_count": 43,
      "outputs": [
        {
          "output_type": "stream",
          "text": [
            "A person has 2 legs\n",
            "A cat has 4 legs\n",
            "A spider has 8 legs\n"
          ],
          "name": "stdout"
        }
      ]
    },
    {
      "cell_type": "code",
      "metadata": {
        "colab": {
          "base_uri": "https://localhost:8080/"
        },
        "id": "rWTdgImDoZtw",
        "outputId": "f0fb8ddc-9c1c-419f-fe9c-b633754def2a"
      },
      "source": [
        "d={'a':2,'c':4,'d':1,'b':10}\n",
        "for animal, legs in sorted(d.items(),key=lambda x:x[0]):     # sort by key \n",
        "  print('%s - %d' % (animal,legs))\n",
        "\n",
        "print('')\n",
        "for animal, legs in sorted(d.items(),key =lambda x:x[1]):   # sort by value"
      ],
      "execution_count": 47,
      "outputs": [
        {
          "output_type": "stream",
          "text": [
            "a - 2\n",
            "b - 10\n",
            "c - 4\n",
            "d - 1\n",
            "\n",
            "d - 1\n",
            "a - 2\n",
            "c - 4\n",
            "b - 10\n"
          ],
          "name": "stdout"
        }
      ]
    },
    {
      "cell_type": "code",
      "metadata": {
        "colab": {
          "base_uri": "https://localhost:8080/"
        },
        "id": "-pHG4SD2pnS_",
        "outputId": "498dfefb-03d6-4df2-84c8-a95135cbc5bf"
      },
      "source": [
        "nums = [0,1,2,3,4]\n",
        "even_nums_to_square = {x: x ** 2 for x in nums if x % 2==0}\n",
        "print(even_nums_to_square)"
      ],
      "execution_count": 49,
      "outputs": [
        {
          "output_type": "stream",
          "text": [
            "{0: 0, 2: 4, 4: 16}\n"
          ],
          "name": "stdout"
        }
      ]
    },
    {
      "cell_type": "markdown",
      "metadata": {
        "id": "WEdbHYIkrQpf"
      },
      "source": [
        "Sets:   order is not important anymore, can not have duplicates "
      ]
    },
    {
      "cell_type": "code",
      "metadata": {
        "colab": {
          "base_uri": "https://localhost:8080/"
        },
        "id": "FQ-YutxnqxvM",
        "outputId": "92a3a8b9-b30c-4002-f260-66d2b720c9ba"
      },
      "source": [
        "animal =  {'cat','dog','cat'}  # set\n",
        "print(animal)"
      ],
      "execution_count": 51,
      "outputs": [
        {
          "output_type": "stream",
          "text": [
            "{'cat', 'dog'}\n"
          ],
          "name": "stdout"
        }
      ]
    },
    {
      "cell_type": "code",
      "metadata": {
        "colab": {
          "base_uri": "https://localhost:8080/"
        },
        "id": "UPKfvHyyr9rA",
        "outputId": "912fef03-aec9-49f0-92c0-90d55e1a7d54"
      },
      "source": [
        "animal =  ['cat','dog','cat'] # list\n",
        "print(animal)\n",
        "animal=set(animal)           # change list to set\n",
        "print(animal)"
      ],
      "execution_count": 53,
      "outputs": [
        {
          "output_type": "stream",
          "text": [
            "['cat', 'dog', 'cat']\n",
            "{'cat', 'dog'}\n"
          ],
          "name": "stdout"
        }
      ]
    },
    {
      "cell_type": "code",
      "metadata": {
        "colab": {
          "base_uri": "https://localhost:8080/"
        },
        "id": "MBcjhYZMsRch",
        "outputId": "a275773e-3d3b-41e2-dd1e-645ef944cdb6"
      },
      "source": [
        "animal.add('fish') # add an element to a set\n",
        "print('fish' in animal)\n",
        "print(len(animal))"
      ],
      "execution_count": 56,
      "outputs": [
        {
          "output_type": "stream",
          "text": [
            "True\n",
            "3\n"
          ],
          "name": "stdout"
        }
      ]
    },
    {
      "cell_type": "code",
      "metadata": {
        "colab": {
          "base_uri": "https://localhost:8080/"
        },
        "id": "ROppVqnesjnv",
        "outputId": "61b83e4b-ad8c-4955-eeb4-a98e5864258a"
      },
      "source": [
        "animal.add('fish') # add an element to a set\n",
        "print(len(animal))\n",
        "animal.remove('cat')\n",
        "print(len(animal))"
      ],
      "execution_count": 58,
      "outputs": [
        {
          "output_type": "stream",
          "text": [
            "3\n",
            "2\n"
          ],
          "name": "stdout"
        }
      ]
    },
    {
      "cell_type": "code",
      "metadata": {
        "colab": {
          "base_uri": "https://localhost:8080/"
        },
        "id": "bg6fzlucs4oE",
        "outputId": "0e340e8c-3162-421a-b422-9f2df1aeece9"
      },
      "source": [
        "animal =  {'cat','dog','fish'}\n",
        "for idx, a in enumerate(animal):\n",
        "  print('#%d: %s' % (idx + 1, a) )"
      ],
      "execution_count": 65,
      "outputs": [
        {
          "output_type": "stream",
          "text": [
            "#1: cat\n",
            "#2: dog\n",
            "#3: fish\n"
          ],
          "name": "stdout"
        }
      ]
    },
    {
      "cell_type": "code",
      "metadata": {
        "colab": {
          "base_uri": "https://localhost:8080/"
        },
        "id": "QLE-cL-lteuC",
        "outputId": "3706d547-b3b4-4efd-ceef-be005fef3a27"
      },
      "source": [
        "from math import sqrt\n",
        "myset = [int(sqrt(x)) for x in range(30)]\n",
        "print(myset)"
      ],
      "execution_count": 67,
      "outputs": [
        {
          "output_type": "stream",
          "text": [
            "[0, 1, 1, 1, 2, 2, 2, 2, 2, 3, 3, 3, 3, 3, 3, 3, 4, 4, 4, 4, 4, 4, 4, 4, 4, 5, 5, 5, 5, 5]\n"
          ],
          "name": "stdout"
        }
      ]
    },
    {
      "cell_type": "markdown",
      "metadata": {
        "id": "HrWAnPVZufI0"
      },
      "source": [
        "Tuple: is an ordered list of values. can be used as keys in dictionaries and as elements of sets,while lists cannot."
      ]
    },
    {
      "cell_type": "code",
      "metadata": {
        "colab": {
          "base_uri": "https://localhost:8080/"
        },
        "id": "enrlCp9DuViK",
        "outputId": "7b312efa-141f-4945-fbb6-1ed800870110"
      },
      "source": [
        "d = {(x,x+1): x for x in range(10)}  # create a distionary with  tuple keys\n",
        "print(d)\n",
        "t=(5,6)\n",
        "print (type(t))\n",
        "print(d[t])\n",
        "print(d[(1,2)])"
      ],
      "execution_count": 68,
      "outputs": [
        {
          "output_type": "stream",
          "text": [
            "{(0, 1): 0, (1, 2): 1, (2, 3): 2, (3, 4): 3, (4, 5): 4, (5, 6): 5, (6, 7): 6, (7, 8): 7, (8, 9): 8, (9, 10): 9}\n",
            "<class 'tuple'>\n",
            "5\n",
            "1\n"
          ],
          "name": "stdout"
        }
      ]
    },
    {
      "cell_type": "markdown",
      "metadata": {
        "id": "ki8uk1bjvzXZ"
      },
      "source": [
        "Functions"
      ]
    },
    {
      "cell_type": "code",
      "metadata": {
        "colab": {
          "base_uri": "https://localhost:8080/"
        },
        "id": "9Z_o_TSyvNUw",
        "outputId": "a62a8c97-0585-4f33-a4ea-80cf4369bb94"
      },
      "source": [
        "def sign(x):\n",
        "  if x > 0 :\n",
        "     return 'positve'\n",
        "  elif x < 0:\n",
        "    return 'negative'\n",
        "  else:\n",
        "    return 'zero'\n",
        "\n",
        "for x in [-1,0,1]:\n",
        "    print(sign(x))"
      ],
      "execution_count": 72,
      "outputs": [
        {
          "output_type": "stream",
          "text": [
            "negative\n",
            "zero\n",
            "positve\n"
          ],
          "name": "stdout"
        }
      ]
    },
    {
      "cell_type": "code",
      "metadata": {
        "id": "cNdMhlrAwXrq"
      },
      "source": [
        "def hello(name, loud= False):\n",
        "    if loud :\n",
        "       print('HELLO, %s' %name.upper())\n",
        "    else :\n",
        "       print ('Hello, %s!' % name)"
      ],
      "execution_count": 74,
      "outputs": []
    },
    {
      "cell_type": "code",
      "metadata": {
        "colab": {
          "base_uri": "https://localhost:8080/"
        },
        "id": "YJKFn2g0xBGY",
        "outputId": "99a3b461-a8a0-4580-e719-c8924c46014f"
      },
      "source": [
        "hello('Fred')"
      ],
      "execution_count": 75,
      "outputs": [
        {
          "output_type": "stream",
          "text": [
            "Hello, Fred!\n"
          ],
          "name": "stdout"
        }
      ]
    },
    {
      "cell_type": "code",
      "metadata": {
        "colab": {
          "base_uri": "https://localhost:8080/"
        },
        "id": "E7FlyZFfxUvD",
        "outputId": "274877e3-1bf6-4628-dc00-4f33c3fc163c"
      },
      "source": [
        "hello('Fred',True)"
      ],
      "execution_count": 76,
      "outputs": [
        {
          "output_type": "stream",
          "text": [
            "HELLO, FRED\n"
          ],
          "name": "stdout"
        }
      ]
    },
    {
      "cell_type": "markdown",
      "metadata": {
        "id": "CKF4zMCPxy28"
      },
      "source": [
        "Classes: all classes create objects and all objexts contain characteristics called attributes.\n",
        "\n",
        "The first argument of a method is self\n"
      ]
    },
    {
      "cell_type": "code",
      "metadata": {
        "colab": {
          "base_uri": "https://localhost:8080/"
        },
        "id": "RXWjW6fExZPW",
        "outputId": "44ee200b-40f3-4f83-d327-c3c16b8a6b98"
      },
      "source": [
        "class A:\n",
        "\n",
        "  def __init__(self,hi):\n",
        "    self.coo = hi\n",
        "\n",
        "  def print_something(self):\n",
        "    print(self.coo)\n",
        "\n",
        "a = A(\"hello\")\n",
        "\n",
        "a.print_something()"
      ],
      "execution_count": 112,
      "outputs": [
        {
          "output_type": "stream",
          "text": [
            "hello\n"
          ],
          "name": "stdout"
        }
      ]
    },
    {
      "cell_type": "code",
      "metadata": {
        "colab": {
          "base_uri": "https://localhost:8080/",
          "height": 35
        },
        "id": "vKvpHrCq5RwJ",
        "outputId": "4420de80-949a-4d07-c828-9d66b800cc3d"
      },
      "source": [
        "a.coo"
      ],
      "execution_count": 111,
      "outputs": [
        {
          "output_type": "execute_result",
          "data": {
            "application/vnd.google.colaboratory.intrinsic+json": {
              "type": "string"
            },
            "text/plain": [
              "'hello'"
            ]
          },
          "metadata": {
            "tags": []
          },
          "execution_count": 111
        }
      ]
    },
    {
      "cell_type": "code",
      "metadata": {
        "id": "K8NUL9f6yY6A"
      },
      "source": [
        "class Greeter:\n",
        "  name = \"\"\n",
        "  def __init__(self,name):    # create object initilization\n",
        "    self.name = name \n",
        "  def greet(self,loud = False):\n",
        "    if loud:\n",
        "      print('HELLO')\n",
        "    else :\n",
        "      print(\"Hello\")"
      ],
      "execution_count": 83,
      "outputs": []
    },
    {
      "cell_type": "code",
      "metadata": {
        "colab": {
          "base_uri": "https://localhost:8080/",
          "height": 35
        },
        "id": "6IoaahvLy166",
        "outputId": "e6d6cb02-1b83-4153-f6cc-e2097639637a"
      },
      "source": [
        "g = Greeter\n",
        "g.name\n",
        "#g.greet()\n",
        "#g.greet(loud=True)"
      ],
      "execution_count": 94,
      "outputs": [
        {
          "output_type": "execute_result",
          "data": {
            "application/vnd.google.colaboratory.intrinsic+json": {
              "type": "string"
            },
            "text/plain": [
              "''"
            ]
          },
          "metadata": {
            "tags": []
          },
          "execution_count": 94
        }
      ]
    },
    {
      "cell_type": "code",
      "metadata": {
        "colab": {
          "base_uri": "https://localhost:8080/",
          "height": 198
        },
        "id": "sn2Jt6l42cyf",
        "outputId": "5cce3955-08d3-4bb8-f44b-90826b62b8cc"
      },
      "source": [
        "abc = [1,2,3]\n",
        "type(abc)\n",
        "abc"
      ],
      "execution_count": 96,
      "outputs": [
        {
          "output_type": "error",
          "ename": "AttributeError",
          "evalue": "ignored",
          "traceback": [
            "\u001b[0;31m---------------------------------------------------------------------------\u001b[0m",
            "\u001b[0;31mAttributeError\u001b[0m                            Traceback (most recent call last)",
            "\u001b[0;32m<ipython-input-96-00afa2e1dd69>\u001b[0m in \u001b[0;36m<module>\u001b[0;34m()\u001b[0m\n\u001b[1;32m      1\u001b[0m \u001b[0mabc\u001b[0m \u001b[0;34m=\u001b[0m \u001b[0;34m[\u001b[0m\u001b[0;36m1\u001b[0m\u001b[0;34m,\u001b[0m\u001b[0;36m2\u001b[0m\u001b[0;34m,\u001b[0m\u001b[0;36m3\u001b[0m\u001b[0;34m]\u001b[0m\u001b[0;34m\u001b[0m\u001b[0;34m\u001b[0m\u001b[0m\n\u001b[1;32m      2\u001b[0m \u001b[0mtype\u001b[0m\u001b[0;34m(\u001b[0m\u001b[0mabc\u001b[0m\u001b[0;34m)\u001b[0m\u001b[0;34m\u001b[0m\u001b[0;34m\u001b[0m\u001b[0m\n\u001b[0;32m----> 3\u001b[0;31m \u001b[0mabc\u001b[0m\u001b[0;34m.\u001b[0m\u001b[0mlen\u001b[0m\u001b[0;34m\u001b[0m\u001b[0;34m\u001b[0m\u001b[0m\n\u001b[0m",
            "\u001b[0;31mAttributeError\u001b[0m: 'list' object has no attribute 'len'"
          ]
        }
      ]
    },
    {
      "cell_type": "code",
      "metadata": {
        "colab": {
          "base_uri": "https://localhost:8080/"
        },
        "id": "ES-Y0_dd0W4m",
        "outputId": "62355308-d2d8-4a9d-90fd-11a332e99b10"
      },
      "source": [
        "a_list = [1,2,3]\n",
        "a_list.append\n",
        "type(a_list)"
      ],
      "execution_count": 89,
      "outputs": [
        {
          "output_type": "execute_result",
          "data": {
            "text/plain": [
              "list"
            ]
          },
          "metadata": {
            "tags": []
          },
          "execution_count": 89
        }
      ]
    },
    {
      "cell_type": "code",
      "metadata": {
        "id": "sN5udfrs1-YL"
      },
      "source": [
        ""
      ],
      "execution_count": null,
      "outputs": []
    }
  ]
}